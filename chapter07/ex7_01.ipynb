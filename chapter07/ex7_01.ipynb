{
 "cells": [
  {
   "cell_type": "markdown",
   "id": "adc52f6f-bb47-4a06-a7ed-3ba4d2ec2130",
   "metadata": {},
   "source": [
    "## TD Error is defined as:\n",
    "\n",
    "$ \\delta_t \\doteq R_{t+1} + \\gamma V(S_{t+1}) $\n",
    "\n",
    "## n-Step TD is defined as:\n",
    "\n",
    "$ G_{t:t+n} \\doteq R_{t+1} + \\gamma R_{t+2} + \\cdots + \\gamma^{n-1} R_{t+n} + \\gamma^{n} V_{t+n-1}(S_{t+n}) $"
   ]
  },
  {
   "cell_type": "markdown",
   "id": "287ba9d2-4efc-4d9b-9ee4-a7143d80fa71",
   "metadata": {
    "tags": []
   },
   "source": [
    "## n-Step Error would be:\n",
    "\n",
    "$ G_{t:t+n} - V(S_{t}) = R_{t+1} + \\gamma G_{t+1:t+n} - \\gamma V(S_{t+1}) + \\gamma V(S_{t+1}) - V(S_{t}) $\n",
    "\n",
    "$ \\qquad\\qquad\\qquad = \\delta_{t} + \\gamma \\big( G_{t+1:t+n} - V(S_{t+1}) \\big) $\n",
    "\n",
    "$ \\qquad\\qquad\\qquad = \\delta_{t} + \\gamma \\big( R_{t+2} + \\gamma G_{t+2:t+n} + \\gamma V(S_{t+2}) - \\gamma V(S_{t+2}) - V(S_{t+1}) \\big) $\n",
    "\n",
    "$ \\qquad\\qquad\\qquad = \\delta_{t} + \\gamma \\delta_{t + 1} + \\gamma \\big( \\gamma G_{t+2:t+n} - \\gamma V(S_{t+2})) \\big) $\n",
    "\n",
    "$ \\qquad\\qquad\\qquad = \\delta_{t} + \\gamma \\delta_{t + 1} + \\gamma^{2} \\big( G_{t+2:t+n} - V(S_{t+2})) \\big) $\n",
    "\n",
    "$ \\qquad\\qquad\\qquad\\qquad\\qquad\\qquad \\vdots $\n",
    "\n",
    "$$ = \\sum^{t+n-1}_{k=t}\\gamma^{k-t}\\delta_{k} \\qquad\\qquad\\qquad\\qquad\\qquad\\qquad\\qquad\\qquad\\qquad\\qquad\\qquad\\qquad $$ "
   ]
  }
 ],
 "metadata": {
  "kernelspec": {
   "display_name": "Python 3 (ipykernel)",
   "language": "python",
   "name": "python3"
  },
  "language_info": {
   "codemirror_mode": {
    "name": "ipython",
    "version": 3
   },
   "file_extension": ".py",
   "mimetype": "text/x-python",
   "name": "python",
   "nbconvert_exporter": "python",
   "pygments_lexer": "ipython3",
   "version": "3.11.1"
  }
 },
 "nbformat": 4,
 "nbformat_minor": 5
}
